{
 "cells": [
  {
   "cell_type": "markdown",
   "metadata": {},
   "source": [
    "# Data Visualization for worldometer_data csv file using classical CSV fetching method"
   ]
  },
  {
   "cell_type": "code",
   "execution_count": 6,
   "metadata": {},
   "outputs": [],
   "source": [
    "# This code fetches the details and plots graphs according to the dataset in a histogram."
   ]
  },
  {
   "cell_type": "code",
   "execution_count": 7,
   "metadata": {},
   "outputs": [],
   "source": [
    "# importing the modules for this module\n",
    "import pandas as pandas\n",
    "from matplotlib import pyplot as plt"
   ]
  },
  {
   "cell_type": "code",
   "execution_count": 8,
   "metadata": {},
   "outputs": [],
   "source": [
    "# using a class method to do all the tasks and operations on the dataset\n",
    "class VisualiseData:\n",
    "    def openFile(self):\n",
    "        self.datafile = pandas.read_csv(\"worldometer_data.csv\")\n",
    "        # print(self.datafile)\n",
    "    \n",
    "    def generateIndiaData(self):\n",
    "        self.indiaData = self.datafile[self.datafile.country_region == \"India\"]\n",
    "\n",
    "        # plotting graph\n",
    "        self.plotIndiaData()\n",
    "    \n",
    "    def plotIndiaData(self):\n",
    "        # plotting data for indian indexes\n",
    "        plt.hist(self.indiaData.total_cases, self.indiaData.total_deaths)\n",
    "        plt.hist(self.indiaData.total_cases, self.indiaData.total_recovered)\n",
    "        plt.title(\"Worldometer Data Index for India\")\n",
    "        plt.xlabel(\"Total Cases\")\n",
    "        plt.ylabel(\"Cured cases and Death cases\")\n",
    "        plt.legend([\"Cured\", \"Deaths\"])\n",
    "        plt.show()"
   ]
  },
  {
   "cell_type": "code",
   "execution_count": 9,
   "metadata": {},
   "outputs": [],
   "source": [
    "def tester():\n",
    "    visualiseData = VisualiseData()\n",
    "    visualiseData.openFile()\n",
    "    visualiseData.generateIndiaData()"
   ]
  },
  {
   "cell_type": "code",
   "execution_count": 10,
   "metadata": {
    "tags": []
   },
   "outputs": [],
   "source": [
    "# main function for tests\n",
    "if __name__ == '__main__':\n",
    "    tester()"
   ]
  }
 ],
 "metadata": {
  "language_info": {
   "codemirror_mode": {
    "name": "ipython",
    "version": 3
   },
   "file_extension": ".py",
   "mimetype": "text/x-python",
   "name": "python",
   "nbconvert_exporter": "python",
   "pygments_lexer": "ipython3",
   "version": "3.8.0-final"
  },
  "orig_nbformat": 2,
  "kernelspec": {
   "name": "python38032bit8c4db33690374d9685e22802e3da1bf3",
   "display_name": "Python 3.8.0 32-bit"
  }
 },
 "nbformat": 4,
 "nbformat_minor": 2
}